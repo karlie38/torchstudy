{
 "cells": [
  {
   "cell_type": "markdown",
   "metadata": {},
   "source": [
    "# Convolutional Sentiment Analysis\n",
    "\n",
    "- Dataset: Moview review (rt-polarity.neg, rt-polarity.pos)\n",
    "    - Source: https://github.com/yoonkim/CNN_sentence\n",
    "    \n",
    "- Code reference code\n",
    "    - https://github.com/bentrevett/pytorch-sentiment-analysis/blob/master/4%20-%20Convolutional%20Sentiment%20Analysis.ipynb\n",
    "\n",
    "- Using kaggle kernel\n",
    "- Pytorch\n",
    "\n",
    "**> Reference paper**\n",
    "- Convolutional Neural Networks for Sentence Classification (EMNLP 2014)\n",
    "- https://arxiv.org/abs/1408.5882"
   ]
  },
  {
   "cell_type": "markdown",
   "metadata": {},
   "source": [
    "## import modules"
   ]
  },
  {
   "cell_type": "code",
   "execution_count": 1,
   "metadata": {
    "_cell_guid": "79c7e3d0-c299-4dcb-8224-4455121ee9b0",
    "_uuid": "d629ff2d2480ee46fbb7e2d37f6b5fab8052498a"
   },
   "outputs": [],
   "source": [
    "import numpy as np\n",
    "from collections import defaultdict\n",
    "import sys, re\n",
    "import pandas as pd\n",
    "import os\n",
    "import pickle\n",
    "import codecs\n",
    "import random\n",
    "import json\n",
    "import torch\n",
    "# from torchtext import data\n",
    "from torchtext.data import TabularDataset, Field, LabelField, BucketIterator\n",
    "# from torchtext import datasets\n",
    "\n",
    "from tqdm import tqdm_notebook"
   ]
  },
  {
   "cell_type": "markdown",
   "metadata": {},
   "source": [
    "## preprocess and load data"
   ]
  },
  {
   "cell_type": "code",
   "execution_count": 2,
   "metadata": {},
   "outputs": [],
   "source": [
    "## preprocess from original source code: https://github.com/yoonkim/CNN_sentence\n",
    "\n",
    "def clean_str(string):\n",
    "    \"\"\"\n",
    "    Tokenization/string cleaning for all datasets except for SST.\n",
    "    Every dataset is lower cased except for TREC\n",
    "    \"\"\"\n",
    "    string = re.sub(r\"[^A-Za-z0-9(),!?\\'\\`]\", \" \", string)     \n",
    "    string = re.sub(r\"\\'s\", \" \\'s\", string) \n",
    "    string = re.sub(r\"\\'ve\", \" \\'ve\", string) \n",
    "    string = re.sub(r\"n\\'t\", \" n\\'t\", string) \n",
    "    string = re.sub(r\"\\'re\", \" \\'re\", string) \n",
    "    string = re.sub(r\"\\'d\", \" \\'d\", string) \n",
    "    string = re.sub(r\"\\'ll\", \" \\'ll\", string) \n",
    "    string = re.sub(r\",\", \" , \", string) \n",
    "    string = re.sub(r\"!\", \" ! \", string) \n",
    "    string = re.sub(r\"\\(\", \" \\( \", string) \n",
    "    string = re.sub(r\"\\)\", \" \\) \", string) \n",
    "    string = re.sub(r\"\\?\", \" \\? \", string) \n",
    "    string = re.sub(r\"\\s{2,}\", \" \", string)    \n",
    "    return string.strip().lower()"
   ]
  },
  {
   "cell_type": "code",
   "execution_count": 3,
   "metadata": {},
   "outputs": [],
   "source": [
    "def build_data(data_dir = '/kaggle/input/polaritydata/', cv=10):\n",
    "  \n",
    "    revs = []\n",
    "    pos = codecs.open(os.path.join(data_dir, \"rt-polarity.pos\"), \"r\", encoding='utf-8', errors='ignore').read()\n",
    "    neg = codecs.open(os.path.join(data_dir, \"rt-polarity.neg\"), \"r\", encoding='utf-8', errors='ignore').read()\n",
    "    pos_list = [clean_str(sent) for sent in pos.split('\\n')[:-1]]\n",
    "    neg_list = [clean_str(sent) for sent in neg.split('\\n')[:-1]]\n",
    "    print('pos len', len(pos_list))\n",
    "    print('neg len', len(neg_list))\n",
    "    print('total len',len(pos_list) + len(neg_list) )\n",
    "  \n",
    "    for sent in pos_list:\n",
    "        datum = {'label': 1,\n",
    "                 'text': sent,\n",
    "                 'num_words': len(sent.split()),\n",
    "                 'split': np.random.randint(0,cv)\n",
    "                 }\n",
    "        revs.append(datum)\n",
    "\n",
    "    for sent in neg_list:\n",
    "        datum = {'label': 0,\n",
    "                 'text': sent,\n",
    "                 'num_words': len(sent.split()),\n",
    "                 'split': np.random.randint(0,cv)\n",
    "                }\n",
    "        revs.append(datum)\n",
    "\n",
    "    word_to_idx = {'@pad': 0}\n",
    "\n",
    "    for sent in pos_list + neg_list:\n",
    "        for word  in sent.split():\n",
    "            if word not in word_to_idx:\n",
    "                word_to_idx[word] = len(word_to_idx)\n",
    "\n",
    "\n",
    "\n",
    "    print(f'num of total data: {len(revs)}')\n",
    "    print(f'num of vocab: {len(word_to_idx)}')\n",
    "\n",
    "\n",
    "    df = pd.DataFrame(revs) \n",
    "    df.to_csv('./polarity_df.csv', index = False, encoding = 'utf-8')\n",
    "    \n",
    "\n",
    "    print('save the data')\n",
    "    \n",
    "    return revs, word_to_idx"
   ]
  },
  {
   "cell_type": "code",
   "execution_count": 4,
   "metadata": {},
   "outputs": [
    {
     "name": "stdout",
     "output_type": "stream",
     "text": [
      "pos len 5331\n",
      "neg len 5331\n",
      "total len 10662\n",
      "num of total data: 10662\n",
      "num of vocab: 18778\n",
      "save the data\n"
     ]
    }
   ],
   "source": [
    "revs, word_to_idx = build_data()"
   ]
  },
  {
   "cell_type": "code",
   "execution_count": 5,
   "metadata": {},
   "outputs": [],
   "source": [
    "# same seed with paper\n",
    "\n",
    "SEED = 3435\n",
    "\n",
    "random.seed(SEED)\n",
    "np.random.seed(SEED)\n",
    "torch.manual_seed(SEED)\n",
    "torch.backends.cudnn.deterministic = True"
   ]
  },
  {
   "cell_type": "code",
   "execution_count": 6,
   "metadata": {},
   "outputs": [
    {
     "name": "stderr",
     "output_type": "stream",
     "text": [
      "/opt/conda/lib/python3.7/site-packages/torchtext/data/field.py:150: UserWarning: Field class will be retired soon and moved to torchtext.legacy. Please see the most recent release notes for further information.\n",
      "  warnings.warn('{} class will be retired soon and moved to torchtext.legacy. Please see the most recent release notes for further information.'.format(self.__class__.__name__), UserWarning)\n",
      "/opt/conda/lib/python3.7/site-packages/torchtext/data/field.py:150: UserWarning: LabelField class will be retired soon and moved to torchtext.legacy. Please see the most recent release notes for further information.\n",
      "  warnings.warn('{} class will be retired soon and moved to torchtext.legacy. Please see the most recent release notes for further information.'.format(self.__class__.__name__), UserWarning)\n"
     ]
    }
   ],
   "source": [
    "TEXT = Field(sequential = True, # text: sequential data\n",
    "             tokenize = str.split, \n",
    "             batch_first = True, \n",
    "             fix_length = 56, # padding size: max length of data text\n",
    "             lower = True)\n",
    "LABEL = LabelField(sequential = False,\n",
    "                   dtype = torch.float)"
   ]
  },
  {
   "cell_type": "code",
   "execution_count": 7,
   "metadata": {},
   "outputs": [
    {
     "name": "stderr",
     "output_type": "stream",
     "text": [
      "/opt/conda/lib/python3.7/site-packages/torchtext/data/example.py:68: UserWarning: Example class will be retired soon and moved to torchtext.legacy. Please see the most recent release notes for further information.\n",
      "  warnings.warn('Example class will be retired soon and moved to torchtext.legacy. Please see the most recent release notes for further information.', UserWarning)\n",
      "/opt/conda/lib/python3.7/site-packages/torchtext/data/example.py:78: UserWarning: Example class will be retired soon and moved to torchtext.legacy. Please see the most recent release notes for further information.\n",
      "  warnings.warn('Example class will be retired soon and moved to torchtext.legacy. Please see the most recent release notes for further information.', UserWarning)\n"
     ]
    },
    {
     "name": "stdout",
     "output_type": "stream",
     "text": [
      "train_data 9596\n",
      "test_data 1066\n"
     ]
    }
   ],
   "source": [
    "dataset = TabularDataset(path='./polarity_df.csv', skip_header = True,\n",
    "    format='csv', fields=[('label', LABEL), ('text', TEXT)]\n",
    "                        )\n",
    "# train, test split\n",
    "train_data, test_data = dataset.split(random_state = random.seed(SEED),split_ratio=0.9)\n",
    "print('train_data', len(train_data))\n",
    "print('test_data', len(test_data))"
   ]
  },
  {
   "cell_type": "code",
   "execution_count": 8,
   "metadata": {},
   "outputs": [
    {
     "name": "stdout",
     "output_type": "stream",
     "text": [
      "{'label': '1', 'text': ['writer', 'director', 'burger', 'imaginatively', 'fans', 'the', 'embers', 'of', 'a', 'dormant', 'national', 'grief', 'and', 'curiosity', 'that', 'has', 'calcified', 'into', 'chronic', 'cynicism', 'and', 'fear']}\n"
     ]
    }
   ],
   "source": [
    "# show a example\n",
    "print(vars(train_data[0]))"
   ]
  },
  {
   "cell_type": "markdown",
   "metadata": {},
   "source": [
    "## loading pretrained word2vec embedding"
   ]
  },
  {
   "cell_type": "code",
   "execution_count": 9,
   "metadata": {},
   "outputs": [],
   "source": [
    "from gensim.models import KeyedVectors\n",
    "\n",
    "w2v = KeyedVectors.load_word2vec_format('../input/word2vec/GoogleNews-vectors-negative300.bin', binary = True)"
   ]
  },
  {
   "cell_type": "code",
   "execution_count": 10,
   "metadata": {},
   "outputs": [
    {
     "name": "stdout",
     "output_type": "stream",
     "text": [
      "17879\n",
      "defaultdict(None, {'0': 0, '1': 1})\n"
     ]
    }
   ],
   "source": [
    "TEXT.build_vocab(train_data)\n",
    "LABEL.build_vocab(train_data)\n",
    "print(len(TEXT.vocab))\n",
    "print(LABEL.vocab.stoi)"
   ]
  },
  {
   "cell_type": "code",
   "execution_count": 11,
   "metadata": {},
   "outputs": [
    {
     "name": "stderr",
     "output_type": "stream",
     "text": [
      "/opt/conda/lib/python3.7/site-packages/ipykernel_launcher.py:5: TqdmDeprecationWarning: This function will be removed in tqdm==5.0.0\n",
      "Please use `tqdm.notebook.tqdm` instead of `tqdm.tqdm_notebook`\n",
      "  \"\"\"\n"
     ]
    },
    {
     "data": {
      "application/vnd.jupyter.widget-view+json": {
       "model_id": "20f54daa100d47e0b57ba1fed4e8028d",
       "version_major": 2,
       "version_minor": 0
      },
      "text/plain": [
       "HBox(children=(FloatProgress(value=0.0, max=17879.0), HTML(value='')))"
      ]
     },
     "metadata": {},
     "output_type": "display_data"
    },
    {
     "name": "stderr",
     "output_type": "stream",
     "text": [
      "/opt/conda/lib/python3.7/site-packages/ipykernel_launcher.py:7: DeprecationWarning: Call to deprecated `wv` (Attribute will be removed in 4.0.0, use self instead).\n",
      "  import sys\n",
      "/opt/conda/lib/python3.7/site-packages/ipykernel_launcher.py:8: UserWarning: The given NumPy array is not writeable, and PyTorch does not support non-writeable tensors. This means you can write to the underlying (supposedly non-writeable) NumPy array using the tensor. You may want to copy the array to protect its data or make it writeable before converting it to a tensor. This type of warning will be suppressed for the rest of this program. (Triggered internally at  /opt/conda/conda-bld/pytorch_1603729138878/work/torch/csrc/utils/tensor_numpy.cpp:141.)\n",
      "  \n"
     ]
    },
    {
     "name": "stdout",
     "output_type": "stream",
     "text": [
      "\n",
      "17879\n"
     ]
    }
   ],
   "source": [
    "# for pretrained embedding vectors\n",
    "\n",
    "EMBEDDING_DIM = 300\n",
    "w2v_vectors = []\n",
    "for token, idx in tqdm_notebook(TEXT.vocab.stoi.items()):\n",
    "    # if word in word2vec vocab -> replace with pretrained word2vec\n",
    "    if token in w2v.wv.vocab.keys():\n",
    "        w2v_vectors.append(torch.FloatTensor(w2v[token]))\n",
    "    # oov -> randomly initialized uniform distribution\n",
    "    else: \n",
    "        w2v_vectors.append(torch.distributions.Uniform(-0.25, +0.25).sample((EMBEDDING_DIM,)))\n",
    "print(len(w2v_vectors))"
   ]
  },
  {
   "cell_type": "code",
   "execution_count": 13,
   "metadata": {},
   "outputs": [
    {
     "name": "stdout",
     "output_type": "stream",
     "text": [
      "unk token\n",
      "tensor([ 0.0410,  0.0286, -0.2246,  0.0923,  0.1683, -0.1634,  0.0673,  0.2371,\n",
      "         0.2392, -0.1895])\n",
      "general words\n",
      "tensor([ 0.0845, -0.0004,  0.0532,  0.0996, -0.1484, -0.0625,  0.0564, -0.0649,\n",
      "         0.0659,  0.0188])\n"
     ]
    }
   ],
   "source": [
    "print('unk token')\n",
    "print(w2v_vectors[0][:10])\n",
    "print('general words')\n",
    "print(w2v_vectors[10][:10])"
   ]
  },
  {
   "cell_type": "code",
   "execution_count": 14,
   "metadata": {},
   "outputs": [
    {
     "name": "stdout",
     "output_type": "stream",
     "text": [
      "cuda:0\n"
     ]
    },
    {
     "name": "stderr",
     "output_type": "stream",
     "text": [
      "/opt/conda/lib/python3.7/site-packages/torchtext/data/iterator.py:48: UserWarning: BucketIterator class will be retired soon and moved to torchtext.legacy. Please see the most recent release notes for further information.\n",
      "  warnings.warn('{} class will be retired soon and moved to torchtext.legacy. Please see the most recent release notes for further information.'.format(self.__class__.__name__), UserWarning)\n"
     ]
    }
   ],
   "source": [
    "# gpu setting\n",
    "BATCH_SIZE = 50\n",
    "device = torch.device('cuda:0' if torch.cuda.is_available() else 'cpu')\n",
    "print(device)\n",
    "\n",
    "# making iterators\n",
    "train_iterator,  test_iterator = BucketIterator.splits(\n",
    "    (train_data, test_data), \n",
    "    batch_size = BATCH_SIZE, \n",
    "    device = device, sort=False, shuffle = True)"
   ]
  },
  {
   "cell_type": "code",
   "execution_count": 15,
   "metadata": {},
   "outputs": [
    {
     "name": "stderr",
     "output_type": "stream",
     "text": [
      "/opt/conda/lib/python3.7/site-packages/torchtext/data/batch.py:23: UserWarning: Batch class will be retired soon and moved to torchtext.legacy. Please see the most recent release notes for further information.\n",
      "  warnings.warn('{} class will be retired soon and moved to torchtext.legacy. Please see the most recent release notes for further information.'.format(self.__class__.__name__), UserWarning)\n"
     ]
    },
    {
     "name": "stdout",
     "output_type": "stream",
     "text": [
      "train text\n",
      "tensor([[ 621, 1948,    3,  ...,    1,    1,    1],\n",
      "        [  10,  225,    4,  ...,    1,    1,    1],\n",
      "        [  22,  463,    2,  ...,    1,    1,    1],\n",
      "        ...,\n",
      "        [ 306,   14,   26,  ...,    1,    1,    1],\n",
      "        [  21, 2075, 3904,  ...,    1,    1,    1],\n",
      "        [   4, 2628,   17,  ...,    1,    1,    1]], device='cuda:0')\n",
      "torch.Size([50, 56])\n",
      "\n",
      "train label\n",
      "tensor([1., 0., 1., 1., 0., 0., 1., 1., 0., 0., 0., 0., 0., 0., 0., 0., 1., 1.,\n",
      "        0., 1., 1., 0., 1., 1., 1., 1., 0., 0., 1., 0., 0., 1., 1., 1., 1., 0.,\n",
      "        1., 0., 0., 0., 0., 0., 0., 0., 0., 0., 0., 0., 0., 0.],\n",
      "       device='cuda:0')\n",
      "torch.Size([50])\n"
     ]
    }
   ],
   "source": [
    "for a , b in train_iterator:\n",
    "    print('train text')\n",
    "    print(a)\n",
    "    print(a.size())\n",
    "    print()\n",
    "    print('train label')\n",
    "    print(b)\n",
    "    print(b.size())\n",
    "    break"
   ]
  },
  {
   "cell_type": "markdown",
   "metadata": {},
   "source": [
    "## model"
   ]
  },
  {
   "cell_type": "code",
   "execution_count": 16,
   "metadata": {},
   "outputs": [],
   "source": [
    "import torch.nn as nn\n",
    "import torch.nn.functional as F"
   ]
  },
  {
   "cell_type": "markdown",
   "metadata": {},
   "source": [
    "\n",
    "## CNN-1D modeling\n",
    "\n",
    "modeling source code: https://github.com/bentrevett/pytorch-sentiment-analysis/blob/master/4%20-%20Convolutional%20Sentiment%20Analysis.ipynb\n"
   ]
  },
  {
   "cell_type": "code",
   "execution_count": 17,
   "metadata": {},
   "outputs": [],
   "source": [
    "class CNN1d(nn.Module):\n",
    "    def __init__(self, vocab_size, embedding_dim, n_filters, filter_sizes, output_dim, \n",
    "                 dropout, pad_idx):\n",
    "        \n",
    "        super().__init__()\n",
    "        \n",
    "        self.embedding = nn.Embedding(vocab_size, embedding_dim, padding_idx = pad_idx)\n",
    "        \n",
    "        self.convs = nn.ModuleList([\n",
    "                                    nn.Conv1d(in_channels = embedding_dim, \n",
    "                                              out_channels = n_filters, \n",
    "                                              kernel_size = fs,\n",
    "                                             padding=(fs-1))\n",
    "                                    for fs in filter_sizes\n",
    "                                    ])\n",
    "        \n",
    "        self.fc = nn.Linear(len(filter_sizes) * n_filters, output_dim)\n",
    "        \n",
    "        self.dropout = nn.Dropout(dropout)\n",
    "        \n",
    "    def forward(self, text):\n",
    "        \n",
    "        #text = [batch size, sent len]\n",
    "#         print('text', text.shape)\n",
    "        embedded = self.embedding(text)\n",
    "                \n",
    "        #embedded = [batch size, sent len, emb dim]\n",
    "#         print('embedded', embedded.shape)\n",
    "        embedded = embedded.permute(0, 2, 1)\n",
    "        \n",
    "        #embedded = [batch size, emb dim, sent len]\n",
    "#         print('after permute embedded', embedded.shape)\n",
    "        conved = [F.relu(conv(embedded)) for conv in self.convs]\n",
    "#         print('conved', len(conved))\n",
    "#         print('** conved[0]', conved[0].shape)\n",
    "#         print('** conved[1]', conved[1].shape)\n",
    "#         print('** conved[2]', conved[2].shape)\n",
    "            \n",
    "        #conved_n = [batch size, n_filters, sent len - filter_sizes[n] + 1]\n",
    "        \n",
    "        pooled = [F.max_pool1d(conv, conv.shape[2]).squeeze(2) for conv in conved]\n",
    "#         print('pooled', len(pooled))\n",
    "#         print('** pooled[0]',pooled[0].shape)\n",
    "#         print('** pooled[1]',pooled[1].shape)\n",
    "#         print('** pooled[2]',pooled[2].shape)\n",
    "       \n",
    "        #pooled_n = [batch size, n_filters]\n",
    "        \n",
    "        cat = self.dropout(torch.cat(pooled, dim = 1))\n",
    "#         print('cat', cat.shape)\n",
    "        #cat = [batch size, n_filters * len(filter_sizes)]\n",
    "#         print('self.fc(cat)', self.fc(cat).shape)\n",
    "#         print('***********************************************')\n",
    "        return self.fc(cat)"
   ]
  },
  {
   "cell_type": "code",
   "execution_count": 18,
   "metadata": {},
   "outputs": [
    {
     "name": "stdout",
     "output_type": "stream",
     "text": [
      "INPUT_DIM 17879\n",
      "EMBEDDING_DIM 300\n",
      "PAD_IDX 1\n",
      "UNK_IDX 0\n"
     ]
    }
   ],
   "source": [
    "INPUT_DIM = len(TEXT.vocab)\n",
    "EMBEDDING_DIM = 300\n",
    "N_FILTERS = 100\n",
    "FILTER_SIZES = [3,4,5]\n",
    "OUTPUT_DIM = 1\n",
    "DROPOUT = 0.5\n",
    "PAD_IDX = TEXT.vocab.stoi[TEXT.pad_token]\n",
    "UNK_IDX = TEXT.vocab.stoi[TEXT.unk_token]\n",
    "print('INPUT_DIM', INPUT_DIM)\n",
    "print('EMBEDDING_DIM', EMBEDDING_DIM)\n",
    "print('PAD_IDX', PAD_IDX)\n",
    "print('UNK_IDX', UNK_IDX)"
   ]
  },
  {
   "cell_type": "code",
   "execution_count": 19,
   "metadata": {},
   "outputs": [],
   "source": [
    "model = CNN1d(INPUT_DIM, EMBEDDING_DIM, N_FILTERS, FILTER_SIZES, OUTPUT_DIM, DROPOUT, PAD_IDX)"
   ]
  },
  {
   "cell_type": "code",
   "execution_count": 20,
   "metadata": {},
   "outputs": [
    {
     "name": "stdout",
     "output_type": "stream",
     "text": [
      "The model has 5,724,301 trainable parameters\n"
     ]
    }
   ],
   "source": [
    "def count_parameters(model):\n",
    "    return sum(p.numel() for p in model.parameters() if p.requires_grad)\n",
    "\n",
    "print(f'The model has {count_parameters(model):,} trainable parameters')"
   ]
  },
  {
   "cell_type": "code",
   "execution_count": 21,
   "metadata": {},
   "outputs": [
    {
     "name": "stdout",
     "output_type": "stream",
     "text": [
      "test string; good \n",
      "Test string: 54\n",
      "before apply\n",
      " origianl: [ 0.04052734  0.0625     -0.01745605] \n",
      " torch_vector: tensor([ 1.0903, -0.5548, -0.9899], grad_fn=<SliceBackward>)\n"
     ]
    }
   ],
   "source": [
    "# for check up (before applying word2vec)\n",
    "test = 'good'\n",
    "test_indx = TEXT.vocab.stoi[test]\n",
    "print(f'test string; {test} \\nTest string: {test_indx}')\n",
    "\n",
    "original_vector = w2v[test]\n",
    "torch_model_vector = model.embedding(torch.tensor([test_indx]))[0]\n",
    "print(f'before apply\\n origianl: {original_vector[:3]} \\n torch_vector: {torch_model_vector[:3]}')"
   ]
  },
  {
   "cell_type": "code",
   "execution_count": 22,
   "metadata": {},
   "outputs": [
    {
     "data": {
      "text/plain": [
       "tensor([[ 0.0410,  0.0286, -0.2246,  ...,  0.2070,  0.0286, -0.0248],\n",
       "        [-0.2156,  0.1972,  0.1520,  ..., -0.1784, -0.0852, -0.0421],\n",
       "        [ 0.0801,  0.1050,  0.0498,  ...,  0.0037,  0.0476, -0.0688],\n",
       "        ...,\n",
       "        [ 0.1855,  0.1689,  0.0027,  ..., -0.3301,  0.0500, -0.2119],\n",
       "        [ 0.0632,  0.0088,  0.2260,  ..., -0.1238, -0.1564,  0.2392],\n",
       "        [ 0.1859,  0.0750,  0.0866,  ...,  0.1684, -0.2417,  0.1577]])"
      ]
     },
     "execution_count": 22,
     "metadata": {},
     "output_type": "execute_result"
    }
   ],
   "source": [
    "# apply w2v\n",
    "TEXT.vocab.set_vectors(TEXT.vocab.stoi, w2v_vectors, EMBEDDING_DIM)\n",
    "pretrained_embeddings = torch.FloatTensor(TEXT.vocab.vectors)\n",
    "model.embedding.weight.data.copy_(pretrained_embeddings)"
   ]
  },
  {
   "cell_type": "code",
   "execution_count": 23,
   "metadata": {},
   "outputs": [
    {
     "name": "stdout",
     "output_type": "stream",
     "text": [
      "after apply\n",
      " origianl: [ 0.04052734  0.0625     -0.01745605] \n",
      " torch_vector: tensor([ 0.0405,  0.0625, -0.0175], grad_fn=<SliceBackward>)\n"
     ]
    }
   ],
   "source": [
    "# for check up (after applying word2vec)\n",
    "torch_model_vector = model.embedding(torch.tensor([test_indx]))[0]\n",
    "print(f'after apply\\n origianl: {original_vector[:3]} \\n torch_vector: {torch_model_vector[:3]}')"
   ]
  },
  {
   "cell_type": "code",
   "execution_count": 24,
   "metadata": {},
   "outputs": [
    {
     "data": {
      "text/plain": [
       "tensor([0., 0., 0., 0., 0., 0., 0., 0., 0., 0., 0., 0., 0., 0., 0., 0., 0., 0., 0., 0., 0., 0., 0., 0.,\n",
       "        0., 0., 0., 0., 0., 0., 0., 0., 0., 0., 0., 0., 0., 0., 0., 0., 0., 0., 0., 0., 0., 0., 0., 0.,\n",
       "        0., 0., 0., 0., 0., 0., 0., 0., 0., 0., 0., 0., 0., 0., 0., 0., 0., 0., 0., 0., 0., 0., 0., 0.,\n",
       "        0., 0., 0., 0., 0., 0., 0., 0., 0., 0., 0., 0., 0., 0., 0., 0., 0., 0., 0., 0., 0., 0., 0., 0.,\n",
       "        0., 0., 0., 0., 0., 0., 0., 0., 0., 0., 0., 0., 0., 0., 0., 0., 0., 0., 0., 0., 0., 0., 0., 0.,\n",
       "        0., 0., 0., 0., 0., 0., 0., 0., 0., 0., 0., 0., 0., 0., 0., 0., 0., 0., 0., 0., 0., 0., 0., 0.,\n",
       "        0., 0., 0., 0., 0., 0., 0., 0., 0., 0., 0., 0., 0., 0., 0., 0., 0., 0., 0., 0., 0., 0., 0., 0.,\n",
       "        0., 0., 0., 0., 0., 0., 0., 0., 0., 0., 0., 0., 0., 0., 0., 0., 0., 0., 0., 0., 0., 0., 0., 0.,\n",
       "        0., 0., 0., 0., 0., 0., 0., 0., 0., 0., 0., 0., 0., 0., 0., 0., 0., 0., 0., 0., 0., 0., 0., 0.,\n",
       "        0., 0., 0., 0., 0., 0., 0., 0., 0., 0., 0., 0., 0., 0., 0., 0., 0., 0., 0., 0., 0., 0., 0., 0.,\n",
       "        0., 0., 0., 0., 0., 0., 0., 0., 0., 0., 0., 0., 0., 0., 0., 0., 0., 0., 0., 0., 0., 0., 0., 0.,\n",
       "        0., 0., 0., 0., 0., 0., 0., 0., 0., 0., 0., 0., 0., 0., 0., 0., 0., 0., 0., 0., 0., 0., 0., 0.,\n",
       "        0., 0., 0., 0., 0., 0., 0., 0., 0., 0., 0., 0.])"
      ]
     },
     "execution_count": 24,
     "metadata": {},
     "output_type": "execute_result"
    }
   ],
   "source": [
    "# padding -> zero vectors\n",
    "model.embedding.weight.data[PAD_IDX]= torch.zeros(EMBEDDING_DIM)\n",
    "model.embedding.weight.data[PAD_IDX]"
   ]
  },
  {
   "cell_type": "code",
   "execution_count": 26,
   "metadata": {},
   "outputs": [],
   "source": [
    "import torch.optim as optim\n",
    "\n",
    "# optimizer = optim.Adadelta(model.parameters(), weight_decay=0.95, rho=0.95,eps=1e-6)\n",
    "optimizer = optim.Adadelta(model.parameters(), rho=0.95)\n",
    "\n",
    "# BCEWithLogitsLoss automatically does softmax function\n",
    "criterion = nn.BCEWithLogitsLoss()\n",
    "\n",
    "model = model.to(device)\n",
    "criterion = criterion.to(device)"
   ]
  },
  {
   "cell_type": "code",
   "execution_count": 27,
   "metadata": {},
   "outputs": [],
   "source": [
    "def binary_accuracy(preds, y):\n",
    "    \"\"\"\n",
    "    Returns accuracy per batch, i.e. if you get 8/10 right, this returns 0.8, NOT 8\n",
    "    \"\"\"\n",
    "\n",
    "    #round predictions to the closest integer\n",
    "    rounded_preds = torch.round(torch.sigmoid(preds))\n",
    "    correct = (rounded_preds == y).float() #convert into float for division \n",
    "    acc = correct.sum() / len(correct)\n",
    "    return acc"
   ]
  },
  {
   "cell_type": "code",
   "execution_count": 49,
   "metadata": {},
   "outputs": [],
   "source": [
    "\n",
    "def train(model, iterator, optimizer, criterion):\n",
    "    \n",
    "    epoch_loss = 0\n",
    "    epoch_acc = 0\n",
    "    \n",
    "    model.train()\n",
    "    \n",
    "    for batch in iterator:\n",
    "        \n",
    "        optimizer.zero_grad()\n",
    "        \n",
    "        predictions = model(batch.text).squeeze(1)\n",
    "        loss = criterion(predictions, batch.label)\n",
    "        acc = binary_accuracy(predictions, batch.label)\n",
    "        \n",
    "        loss.backward()\n",
    "        optimizer.step()\n",
    "        \n",
    "    #  l2 norm (weight contraints): 3\n",
    "        for name, param in model.named_parameters():\n",
    "            if 'fc.weight' in name:\n",
    "                max_val = 3\n",
    "                norm = param.norm( dim=0, keepdim=True)\n",
    "                desired = torch.clamp(norm, 0, max_val)\n",
    "                scale = desired / (1e-7 + norm)\n",
    "                param = param * scale\n",
    "        \n",
    "        epoch_loss += loss.item()\n",
    "        epoch_acc += acc.item()\n",
    "        \n",
    "    return epoch_loss / len(iterator), epoch_acc / len(iterator)\n"
   ]
  },
  {
   "cell_type": "code",
   "execution_count": 50,
   "metadata": {},
   "outputs": [],
   "source": [
    "def evaluate(model, iterator, criterion):\n",
    "    \n",
    "    epoch_loss = 0\n",
    "    epoch_acc = 0\n",
    "    \n",
    "    model.eval()\n",
    "    \n",
    "    with torch.no_grad():\n",
    "    \n",
    "        for batch in iterator:\n",
    "\n",
    "            predictions = model(batch.text).squeeze(1)\n",
    "            \n",
    "            loss = criterion(predictions, batch.label)\n",
    "            \n",
    "            acc = binary_accuracy(predictions, batch.label)\n",
    "\n",
    "            epoch_loss += loss.item()\n",
    "            epoch_acc += acc.item()\n",
    "        \n",
    "    return epoch_loss / len(iterator), epoch_acc / len(iterator)"
   ]
  },
  {
   "cell_type": "code",
   "execution_count": 51,
   "metadata": {},
   "outputs": [],
   "source": [
    "import time\n",
    "\n",
    "def epoch_time(start_time, end_time):\n",
    "    elapsed_time = end_time - start_time\n",
    "    elapsed_mins = int(elapsed_time / 60)\n",
    "    elapsed_secs = int(elapsed_time - (elapsed_mins * 60))\n",
    "    return elapsed_mins, elapsed_secs"
   ]
  },
  {
   "cell_type": "code",
   "execution_count": 52,
   "metadata": {},
   "outputs": [
    {
     "name": "stdout",
     "output_type": "stream",
     "text": [
      "Epoch: 01 | Epoch Time: 0m 2s\n",
      "\tTrain Loss: 0.559 | Train Acc: 70.48%\n",
      "\t Test. Loss: 0.460 |  Val. Acc: 79.33%\n",
      "Epoch: 02 | Epoch Time: 0m 1s\n",
      "\tTrain Loss: 0.417 | Train Acc: 81.14%\n",
      "\t Test. Loss: 0.431 |  Val. Acc: 79.86%\n",
      "Epoch: 03 | Epoch Time: 0m 1s\n",
      "\tTrain Loss: 0.330 | Train Acc: 85.80%\n",
      "\t Test. Loss: 0.452 |  Val. Acc: 79.25%\n",
      "Epoch: 04 | Epoch Time: 0m 1s\n",
      "\tTrain Loss: 0.250 | Train Acc: 89.74%\n",
      "\t Test. Loss: 0.444 |  Val. Acc: 80.25%\n",
      "Epoch: 05 | Epoch Time: 0m 1s\n",
      "\tTrain Loss: 0.180 | Train Acc: 93.05%\n",
      "\t Test. Loss: 0.492 |  Val. Acc: 79.67%\n",
      "Epoch: 06 | Epoch Time: 0m 1s\n",
      "\tTrain Loss: 0.114 | Train Acc: 96.17%\n",
      "\t Test. Loss: 0.538 |  Val. Acc: 80.43%\n",
      "Epoch: 07 | Epoch Time: 0m 1s\n",
      "\tTrain Loss: 0.075 | Train Acc: 97.65%\n",
      "\t Test. Loss: 0.589 |  Val. Acc: 79.50%\n",
      "Epoch: 08 | Epoch Time: 0m 1s\n",
      "\tTrain Loss: 0.046 | Train Acc: 98.69%\n",
      "\t Test. Loss: 0.655 |  Val. Acc: 80.50%\n",
      "Epoch: 09 | Epoch Time: 0m 1s\n",
      "\tTrain Loss: 0.026 | Train Acc: 99.49%\n",
      "\t Test. Loss: 0.728 |  Val. Acc: 80.15%\n",
      "Epoch: 10 | Epoch Time: 0m 1s\n",
      "\tTrain Loss: 0.019 | Train Acc: 99.59%\n",
      "\t Test. Loss: 0.778 |  Val. Acc: 79.87%\n"
     ]
    }
   ],
   "source": [
    "N_EPOCHS = 10\n",
    "\n",
    "# best_test_loss = float('inf')\n",
    "best_test_acc = -float('inf')\n",
    "\n",
    "for epoch in range(N_EPOCHS):\n",
    "\n",
    "    start_time = time.time()\n",
    "    \n",
    "    train_loss, train_acc = train(model, train_iterator, optimizer, criterion)\n",
    "    test_loss, test_acc = evaluate(model, test_iterator, criterion)\n",
    "    \n",
    "    end_time = time.time()\n",
    "\n",
    "    epoch_mins, epoch_secs = epoch_time(start_time, end_time)\n",
    "    \n",
    "    if test_acc > best_test_acc:\n",
    "        best_test_acc = test_acc\n",
    "        torch.save(model.state_dict(), 'tut4-model.pt')\n",
    "\n",
    "    \n",
    "    print(f'Epoch: {epoch+1:02} | Epoch Time: {epoch_mins}m {epoch_secs}s')\n",
    "    print(f'\\tTrain Loss: {train_loss:.3f} | Train Acc: {train_acc*100:.2f}%')\n",
    "    print(f'\\t Test. Loss: {test_loss:.3f} |  Val. Acc: {test_acc*100:.2f}%')"
   ]
  },
  {
   "cell_type": "code",
   "execution_count": 53,
   "metadata": {},
   "outputs": [
    {
     "name": "stdout",
     "output_type": "stream",
     "text": [
      "Test Loss: 0.679 | Test Acc: 80.11%\n"
     ]
    }
   ],
   "source": [
    "model.load_state_dict(torch.load('tut4-model.pt'))\n",
    "\n",
    "test_loss, test_acc = evaluate(model, test_iterator, criterion)\n",
    "\n",
    "print(f'Test Loss: {test_loss:.3f} | Test Acc: {test_acc*100:.2f}%')"
   ]
  }
 ],
 "metadata": {
  "kernelspec": {
   "display_name": "Python 3",
   "language": "python",
   "name": "python3"
  },
  "language_info": {
   "codemirror_mode": {
    "name": "ipython",
    "version": 3
   },
   "file_extension": ".py",
   "mimetype": "text/x-python",
   "name": "python",
   "nbconvert_exporter": "python",
   "pygments_lexer": "ipython3",
   "version": "3.7.4"
  }
 },
 "nbformat": 4,
 "nbformat_minor": 4
}
